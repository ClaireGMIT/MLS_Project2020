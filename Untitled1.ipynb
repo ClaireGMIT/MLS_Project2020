{
 "cells": [
  {
   "cell_type": "code",
   "execution_count": 7,
   "metadata": {},
   "outputs": [
    {
     "name": "stdout",
     "output_type": "stream",
     "text": [
      "   intercept:  -13.899902630519634\n",
      "coefficients:  [4.91759567]\n",
      "       score:  0.7289360258564073\n"
     ]
    }
   ],
   "source": [
    "# Import linear_model from sklearn.\n",
    "import sklearn.linear_model as lm\n",
    " \n",
    "# Create a linear regression model instance.\n",
    "m = lm.LinearRegression()\n",
    " \n",
    "# Let's use pandas to read a csv file and organise our data.\n",
    "import pandas as pd\n",
    " \n",
    "# Read the iris csv from online.\n",
    "df = pd.read_csv('https://raw.githubusercontent.com/ClaireGMIT/MLS_Project2020/main/powerproduction.csv')\n",
    "\n",
    "# Let's pretend we want to do linear regression on these variables to predict petal width.\n",
    "x = df[['speed']]\n",
    " \n",
    "# Here's petal width.\n",
    "y = df['power']\n",
    " \n",
    "# Ask our model to fit the data.\n",
    "m.fit(x, y)\n",
    " \n",
    "# Here's our intercept.\n",
    "print('   intercept: ',m.intercept_)\n",
    " \n",
    "# Here's our coefficients, in order.\n",
    "print('coefficients: ',m.coef_)\n",
    " \n",
    "# See how good our fit is.\n",
    "print('       score: ',m.score(x, y))"
   ]
  },
  {
   "cell_type": "code",
   "execution_count": 8,
   "metadata": {},
   "outputs": [],
   "source": [
    "# Neural networks.\n",
    "import tensorflow.keras as kr\n",
    "\n",
    "# Numerical arrays\n",
    "import numpy as np\n",
    "\n",
    "# Data frames.\n",
    "import pandas as pd\n",
    "\n",
    "# Plotting\n",
    "import matplotlib.pyplot as plt\n",
    "\n",
    "import seaborn as sns\n",
    "\n",
    "import sklearn as sk\n",
    "import sklearn.cluster as skcl\n",
    "from sklearn.model_selection import train_test_split\n",
    "# Import required libraries\n",
    "import pandas as pd\n",
    "import numpy as np \n",
    "import matplotlib.pyplot as plt\n",
    "import sklearn\n",
    "from sklearn.neural_network import MLPClassifier\n",
    "from sklearn.neural_network import MLPRegressor\n",
    "\n",
    "# Import necessary modules\n",
    "from sklearn.model_selection import train_test_split\n",
    "from sklearn.metrics import mean_squared_error\n",
    "from math import sqrt\n",
    "from sklearn.metrics import r2_score"
   ]
  },
  {
   "cell_type": "code",
   "execution_count": 9,
   "metadata": {},
   "outputs": [],
   "source": [
    "# Plot style.\n",
    "plt.style.use(\"ggplot\")\n",
    "\n",
    "# Plot size.\n",
    "plt.rcParams['figure.figsize'] = [14, 8]"
   ]
  },
  {
   "cell_type": "code",
   "execution_count": 10,
   "metadata": {},
   "outputs": [
    {
     "name": "stdout",
     "output_type": "stream",
     "text": [
      "(500, 2)\n"
     ]
    },
    {
     "data": {
      "text/html": [
       "<div>\n",
       "<style scoped>\n",
       "    .dataframe tbody tr th:only-of-type {\n",
       "        vertical-align: middle;\n",
       "    }\n",
       "\n",
       "    .dataframe tbody tr th {\n",
       "        vertical-align: top;\n",
       "    }\n",
       "\n",
       "    .dataframe thead th {\n",
       "        text-align: right;\n",
       "    }\n",
       "</style>\n",
       "<table border=\"1\" class=\"dataframe\">\n",
       "  <thead>\n",
       "    <tr style=\"text-align: right;\">\n",
       "      <th></th>\n",
       "      <th>count</th>\n",
       "      <th>mean</th>\n",
       "      <th>std</th>\n",
       "      <th>min</th>\n",
       "      <th>25%</th>\n",
       "      <th>50%</th>\n",
       "      <th>75%</th>\n",
       "      <th>max</th>\n",
       "    </tr>\n",
       "  </thead>\n",
       "  <tbody>\n",
       "    <tr>\n",
       "      <th>speed</th>\n",
       "      <td>500.0</td>\n",
       "      <td>12.590398</td>\n",
       "      <td>7.224991</td>\n",
       "      <td>0.0</td>\n",
       "      <td>6.32475</td>\n",
       "      <td>12.5505</td>\n",
       "      <td>18.77525</td>\n",
       "      <td>25.000</td>\n",
       "    </tr>\n",
       "    <tr>\n",
       "      <th>power</th>\n",
       "      <td>500.0</td>\n",
       "      <td>48.014584</td>\n",
       "      <td>41.614572</td>\n",
       "      <td>0.0</td>\n",
       "      <td>5.28800</td>\n",
       "      <td>41.6455</td>\n",
       "      <td>93.53700</td>\n",
       "      <td>113.556</td>\n",
       "    </tr>\n",
       "  </tbody>\n",
       "</table>\n",
       "</div>"
      ],
      "text/plain": [
       "       count       mean        std  min      25%      50%       75%      max\n",
       "speed  500.0  12.590398   7.224991  0.0  6.32475  12.5505  18.77525   25.000\n",
       "power  500.0  48.014584  41.614572  0.0  5.28800  41.6455  93.53700  113.556"
      ]
     },
     "execution_count": 10,
     "metadata": {},
     "output_type": "execute_result"
    }
   ],
   "source": [
    "# Import the dataset\n",
    "\n",
    "# Read the iris csv from online.\n",
    "df = pd.read_csv('https://raw.githubusercontent.com/ClaireGMIT/MLS_Project2020/main/powerproduction.csv')\n",
    "\n",
    "# Let's pretend we want to do linear regression on these variables to predict petal width.\n",
    "x = df[['speed']]\n",
    " \n",
    "# Here's petal width.\n",
    "y = df['power']\n",
    "\n",
    "print(df.shape)\n",
    "df.describe().transpose()"
   ]
  },
  {
   "cell_type": "code",
   "execution_count": null,
   "metadata": {},
   "outputs": [],
   "source": []
  },
  {
   "cell_type": "code",
   "execution_count": null,
   "metadata": {},
   "outputs": [],
   "source": []
  },
  {
   "cell_type": "code",
   "execution_count": null,
   "metadata": {},
   "outputs": [],
   "source": []
  },
  {
   "cell_type": "code",
   "execution_count": null,
   "metadata": {},
   "outputs": [],
   "source": []
  }
 ],
 "metadata": {
  "kernelspec": {
   "display_name": "Python 3",
   "language": "python",
   "name": "python3"
  },
  "language_info": {
   "codemirror_mode": {
    "name": "ipython",
    "version": 3
   },
   "file_extension": ".py",
   "mimetype": "text/x-python",
   "name": "python",
   "nbconvert_exporter": "python",
   "pygments_lexer": "ipython3",
   "version": "3.7.9"
  }
 },
 "nbformat": 4,
 "nbformat_minor": 4
}
